{
 "cells": [
  {
   "cell_type": "markdown",
   "metadata": {},
   "source": [
    "# Ejercicio 1: Trabajar con argumentos en funciones\n",
    "Comienza por crear una función que necesite tres lecturas de combustible y devuelva un informe:"
   ]
  },
  {
   "cell_type": "code",
   "execution_count": 106,
   "metadata": {},
   "outputs": [],
   "source": [
    "def promedio_combustible(tanque_1, tanque_2, tanque_3):\n",
    "    total_combustible = (tanque_1 + tanque_2 + tanque_3)/3\n",
    "    return total_combustible"
   ]
  },
  {
   "cell_type": "markdown",
   "metadata": {},
   "source": [
    "Ahora que hemos definido la función de informes, vamos a comprobarlo. Para esta misión, los tanques no están llenos:"
   ]
  },
  {
   "cell_type": "code",
   "execution_count": 107,
   "metadata": {},
   "outputs": [
    {
     "name": "stdout",
     "output_type": "stream",
     "text": [
      "El promedio de combustible es 30.0\n"
     ]
    }
   ],
   "source": [
    "print(\"El promedio de combustible es \" + str(promedio_combustible(20, 30, 40)))"
   ]
  },
  {
   "cell_type": "markdown",
   "metadata": {},
   "source": [
    "En lugar de simplemente crear el informe, la función también está calculando el promedio. Mejora la legibilidad extrayendo el cálculo promedio de la función en una nueva función para que el promedio se pueda hacer de forma independiente:"
   ]
  },
  {
   "cell_type": "code",
   "execution_count": 108,
   "metadata": {},
   "outputs": [
    {
     "name": "stdout",
     "output_type": "stream",
     "text": [
      "El promedio de combustible es 30.0\n"
     ]
    }
   ],
   "source": [
    "def promedio_combustible(combustibles):\n",
    "    suma_combustible = sum(combustibles)\n",
    "    tanques_totales = len(combustibles)\n",
    "    total_combustible = suma_combustible/tanques_totales\n",
    "    return total_combustible\n",
    "\n",
    "print(\"El promedio de combustible es \" + str(promedio_combustible([20, 30, 40])))"
   ]
  },
  {
   "cell_type": "markdown",
   "metadata": {},
   "source": [
    "Ahora actualiza la función de informes para llamando a la nueva función del promedio:"
   ]
  },
  {
   "cell_type": "code",
   "execution_count": 109,
   "metadata": {},
   "outputs": [
    {
     "name": "stdout",
     "output_type": "stream",
     "text": [
      "El promedio de combustible es 30.0\n"
     ]
    }
   ],
   "source": [
    "def genera_reporte(tanque_1, tanque_2, tanque_3):\n",
    "    total_combustible = promedio_combustible([tanque_1, tanque_2, tanque_3])\n",
    "    return total_combustible\n",
    "\n",
    "print(\"El promedio de combustible es \" + str(genera_reporte(20,30,40)))"
   ]
  },
  {
   "cell_type": "markdown",
   "metadata": {},
   "source": [
    "# Ejercicio 2: Trabajo con argumentos de palabra clave\n",
    "En este ejercicio, construirás un informe de cohete que requiere varias piezas de información, como el tiempo hasta el destino, el combustible a la izquierda y el nombre del destino. Comienza por crear una función que creará un informe preciso de la misión:"
   ]
  },
  {
   "cell_type": "code",
   "execution_count": 110,
   "metadata": {},
   "outputs": [
    {
     "name": "stdout",
     "output_type": "stream",
     "text": [
      "Mision a: Marte\n",
      "Tiempo de viaje: 2000\n",
      "Combustible a la izquierda: 1000 litros\n"
     ]
    }
   ],
   "source": [
    "def reporte_de_mision(tiempo_a_destino, combustible_izquierda, destino):\n",
    "    reporte = \"Mision a: \" + str(destino) + \"\\nTiempo de viaje: \" + str(tiempo_a_destino) + \"\\nCombustible a la izquierda: \" + str(combustible_izquierda) + \" litros\"\n",
    "    return reporte\n",
    "\n",
    "print(reporte_de_mision(2000, 1000, \"Marte\"))"
   ]
  },
  {
   "cell_type": "markdown",
   "metadata": {},
   "source": [
    "La función es problemática porque no se puede adaptar para minutos adicionales o tanques adicionales de combustible. Hazlo más flexible permitiendo cualquier número de pasos basados en el tiempo y cualquier número de tanques. En lugar de usar *args y **kwargs, aprovecha el hecho de que puedes usar cualquier nombre que desees. Asegurate que la función sea más legible mediante el uso de nombres de variables que están asociados con las entradas, como *minutes y **fuel_reservoirs:"
   ]
  },
  {
   "cell_type": "code",
   "execution_count": 111,
   "metadata": {},
   "outputs": [
    {
     "name": "stdout",
     "output_type": "stream",
     "text": [
      "\n",
      "    Mission a: Marte\n",
      "    Tiempo de viaje: 90\n",
      "    Total de combustible: 3000 litros\n",
      "    \n"
     ]
    }
   ],
   "source": [
    "def reporte_de_mision(destino, *tiempo, **combustible):\n",
    "    return f\"\"\"\n",
    "    Mission a: {destino}\n",
    "    Tiempo de viaje: {sum(tiempo)}\n",
    "    Total de combustible: {sum(combustible.values())} litros\n",
    "    \"\"\"\n",
    "\n",
    "print(reporte_de_mision(\"Marte\", 20, 30, 40, principal=1000, izquierda=2000))"
   ]
  },
  {
   "cell_type": "markdown",
   "metadata": {},
   "source": [
    "Debido a que el combustible que queda en los tanques es específico de cada tanque, actualiza la función para usar el nombre de cada tanque en el informe:"
   ]
  },
  {
   "cell_type": "code",
   "execution_count": 112,
   "metadata": {},
   "outputs": [
    {
     "name": "stdout",
     "output_type": "stream",
     "text": [
      "\n",
      "    Mission a: Marte\n",
      "    Tiempo de viaje: 90\n",
      "    Total de combustible: 3000 litros\n",
      "    Reporte de combustible:\n",
      "\tPrincipal: 1000 litros\n",
      "\tIzquierda: 2000 litros\n",
      "\n"
     ]
    }
   ],
   "source": [
    "def reporte_de_mision(destino, *tiempo, **combustible):\n",
    "    reporte = f\"\"\"\n",
    "    Mission a: {destino}\n",
    "    Tiempo de viaje: {sum(tiempo)}\n",
    "    Total de combustible: {sum(combustible.values())} litros\n",
    "    \"\"\"\n",
    "    reporte_tanques = 'Reporte de combustible:\\n'\n",
    "    for tanque, cantidad in combustible.items():\n",
    "        reporte_tanques += f\"\\t{tanque.title()}: {cantidad} litros\\n\"\n",
    "    reporte_total = reporte + reporte_tanques\n",
    "    \n",
    "    return reporte_total\n",
    "\n",
    "print(reporte_de_mision(\"Marte\", 20, 30, 40, principal=1000, izquierda=2000))"
   ]
  }
 ],
 "metadata": {
  "interpreter": {
   "hash": "edac005d18d8db2248780fe94ce12f7501234e061d07adf771a605d8e72454d1"
  },
  "kernelspec": {
   "display_name": "Python 3.9.6 64-bit",
   "language": "python",
   "name": "python3"
  },
  "language_info": {
   "codemirror_mode": {
    "name": "ipython",
    "version": 3
   },
   "file_extension": ".py",
   "mimetype": "text/x-python",
   "name": "python",
   "nbconvert_exporter": "python",
   "pygments_lexer": "ipython3",
   "version": "3.9.6"
  },
  "orig_nbformat": 4
 },
 "nbformat": 4,
 "nbformat_minor": 2
}
