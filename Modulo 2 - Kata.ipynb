{
 "cells": [
  {
   "cell_type": "markdown",
   "metadata": {},
   "source": [
    "# Crear un entorno virtual\n",
    "Ejecutar en su terminal: python3 -m venv env o bien python -m venv env\n",
    "\n",
    "![](imagenes/2-1.png)\n",
    "\n",
    "Ejecuta el comando para activar el entorno virtual: source env/bin/activate\n",
    "\n",
    "![](imagenes/2-2.png)\n",
    "\n",
    "Ahora ves en tu terminal (env). Eso significa que has activado tu entorno virtual y se ha aislado del resto de tu máquina.\n",
    "\n",
    "# Instalar una biblioteca\n",
    "Ejecuta el comando pip freeze para ver las bibliotecas instaladas en tu entorno:\n",
    "\n",
    "![](imagenes/2-3.png)\n",
    "\n",
    "Ejecuta el comando pip install para instalar una biblioteca:\n",
    "\n",
    "![](imagenes/2-4.png)\n",
    "\n",
    "Vuelve a ejecutar pip freeze para ver cómo ha cambiado tu lista de bibliotecas:\n",
    "\n",
    "![](imagenes/2-5.png)\n",
    "\n",
    "# Desactivar un entorno virtual\n",
    "Ejecuta el comando deactivate:\n",
    "\n",
    "![](imagenes/2-6.png)"
   ]
  }
 ],
 "metadata": {
  "language_info": {
   "name": "python"
  },
  "orig_nbformat": 4
 },
 "nbformat": 4,
 "nbformat_minor": 2
}
