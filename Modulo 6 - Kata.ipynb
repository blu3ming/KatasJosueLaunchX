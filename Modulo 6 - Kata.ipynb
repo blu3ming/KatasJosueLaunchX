{
 "cells": [
  {
   "cell_type": "markdown",
   "metadata": {},
   "source": [
    "# Ejercicio1: Crear y usar listas de Python\n",
    "En primer lugar, crea una variable denominada planets. Agrega los ocho planetas (sin Plutón) a la lista. A continuación, muestra el número de planetas."
   ]
  },
  {
   "cell_type": "code",
   "execution_count": 70,
   "metadata": {},
   "outputs": [
    {
     "name": "stdout",
     "output_type": "stream",
     "text": [
      "Hay 8 planetas en el Sistema Solar\n"
     ]
    }
   ],
   "source": [
    "planets = ['Mercurio','Venus','Tierra','Marte','Jupiter','Saturno','Urano','Neptuno']\n",
    "print(\"Hay \" + str(len(planets)) + \" planetas en el Sistema Solar\")"
   ]
  },
  {
   "cell_type": "markdown",
   "metadata": {},
   "source": [
    "Agrega a Plutón a la lista que creaste. Luego muestra tanto el número de planetas como el último planeta de la lista."
   ]
  },
  {
   "cell_type": "code",
   "execution_count": 71,
   "metadata": {},
   "outputs": [
    {
     "name": "stdout",
     "output_type": "stream",
     "text": [
      "Hay un total de 9 planetas y el último es Pluton\n"
     ]
    }
   ],
   "source": [
    "planets.append(\"Pluton\")\n",
    "print(\"Hay un total de \" + str(len(planets)) + \" planetas y el último es \" + planets[-1])"
   ]
  },
  {
   "cell_type": "markdown",
   "metadata": {},
   "source": [
    "# Ejercicio 2: Trabajando con datos de una lista\n",
    "Comienza agregando el código para crear una lista con los planetas."
   ]
  },
  {
   "cell_type": "code",
   "execution_count": 72,
   "metadata": {},
   "outputs": [],
   "source": [
    "planets = ['mercurio','venus','tierra','marte','jupiter','saturno','urano','neptuno']\n",
    "#Se colocan en minúsculas para facilitar el algoritmo posteriormente"
   ]
  },
  {
   "cell_type": "markdown",
   "metadata": {},
   "source": [
    "A continuación, agrega el código para solicitar al usuario un nombre. Debido a que las cadenas distinguen entre mayúsculas y minúsculas en Python, pídale al usuario que use una letra mayúscula para comenzar el nombre del planeta."
   ]
  },
  {
   "cell_type": "code",
   "execution_count": 73,
   "metadata": {},
   "outputs": [],
   "source": [
    "planeta_input = input(\"Ingresa el nombre de un planeta: \")\n",
    "#Para evitar tener que pedirle al usuario que ingrese el planeta de un modo específico, todo se pasa a minúsculas\n",
    "planeta = planeta_input.lower()"
   ]
  },
  {
   "cell_type": "markdown",
   "metadata": {},
   "source": [
    "Para determinar qué planetas están más cerca que el que ingresó el usuario, debes encontrar dónde está el planeta en la lista. Puedes utilizar index para realizar esta operación. Agrega el código para encontrar el índice del planeta."
   ]
  },
  {
   "cell_type": "code",
   "execution_count": 74,
   "metadata": {},
   "outputs": [],
   "source": [
    "indice = planets.index(planeta)"
   ]
  },
  {
   "cell_type": "markdown",
   "metadata": {},
   "source": [
    "Con el índice determinado, ahora puedes agregar el código para mostrar los planetas más cercanos al sol."
   ]
  },
  {
   "cell_type": "code",
   "execution_count": 75,
   "metadata": {},
   "outputs": [
    {
     "name": "stdout",
     "output_type": "stream",
     "text": [
      "Los planetas más cercanos al sol hasta Urano son: ['mercurio', 'venus', 'tierra', 'marte', 'jupiter', 'saturno']\n",
      "\n",
      "Los planetas más cercanos al sol hasta Urano son: \n",
      "- Mercurio\n",
      "- Venus\n",
      "- Tierra\n",
      "- Marte\n",
      "- Jupiter\n",
      "- Saturno\n"
     ]
    }
   ],
   "source": [
    "print(\"Los planetas más cercanos al sol hasta \" + planeta.title() + \" son: \" + str(planets[0:indice]))\n",
    "#La anterior es la solución más evidente. Sin embargo, podemos mejorarla listando los planetas y\n",
    "#regresando la capitalización de la primera letra\n",
    "print(\"\\nLos planetas más cercanos al sol hasta \" + planeta.title() + \" son: \")\n",
    "for planeta_listado in planets:\n",
    "    if planets.index(planeta_listado) < indice:\n",
    "        print(\"- \" + planeta_listado.title())"
   ]
  },
  {
   "cell_type": "markdown",
   "metadata": {},
   "source": [
    "Puedes usar el mismo índice para mostrar planetas más alejados del sol. Sin embargo, recuerda que el índice inicial se incluye cuando usas un slice. Como resultado, tendrás que agregar 1 al valor. Agrega el código para mostrar los planetas más alejados del sol."
   ]
  },
  {
   "cell_type": "code",
   "execution_count": 76,
   "metadata": {},
   "outputs": [
    {
     "name": "stdout",
     "output_type": "stream",
     "text": [
      "Por el contrario, los planetas más alejados al sol desde Urano son: ['neptuno']\n",
      "\n",
      "Por el contrario, los planetas más alejados al sol desde Urano son: \n",
      "- Neptuno\n"
     ]
    }
   ],
   "source": [
    "print(\"Por el contrario, los planetas más alejados al sol desde \" + planeta.title() + \" son: \" + str(planets[indice + 1:]))\n",
    "#La anterior es la solución más evidente. Sin embargo, podemos mejorarla listando los planetas y\n",
    "#regresando la capitalización de la primera letra\n",
    "print(\"\\nPor el contrario, los planetas más alejados al sol desde \" + planeta.title() + \" son: \")\n",
    "for planeta_listado in planets:\n",
    "    if planets.index(planeta_listado) > indice:\n",
    "        print(\"- \" + planeta_listado.title())"
   ]
  }
 ],
 "metadata": {
  "interpreter": {
   "hash": "edac005d18d8db2248780fe94ce12f7501234e061d07adf771a605d8e72454d1"
  },
  "kernelspec": {
   "display_name": "Python 3.9.6 64-bit",
   "language": "python",
   "name": "python3"
  },
  "language_info": {
   "codemirror_mode": {
    "name": "ipython",
    "version": 3
   },
   "file_extension": ".py",
   "mimetype": "text/x-python",
   "name": "python",
   "nbconvert_exporter": "python",
   "pygments_lexer": "ipython3",
   "version": "3.9.6"
  },
  "orig_nbformat": 4
 },
 "nbformat": 4,
 "nbformat_minor": 2
}
